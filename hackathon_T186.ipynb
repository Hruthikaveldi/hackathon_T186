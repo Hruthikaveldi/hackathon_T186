{
  "nbformat": 4,
  "nbformat_minor": 0,
  "metadata": {
    "colab": {
      "provenance": [],
      "authorship_tag": "ABX9TyNuXPkSzKGkA5KKQgtYjFxy",
      "include_colab_link": true
    },
    "kernelspec": {
      "name": "python3",
      "display_name": "Python 3"
    },
    "language_info": {
      "name": "python"
    }
  },
  "cells": [
    {
      "cell_type": "markdown",
      "metadata": {
        "id": "view-in-github",
        "colab_type": "text"
      },
      "source": [
        "<a href=\"https://colab.research.google.com/github/Hruthikaveldi/hackathon_T186/blob/main/hackathon_T186.ipynb\" target=\"_parent\"><img src=\"https://colab.research.google.com/assets/colab-badge.svg\" alt=\"Open In Colab\"/></a>"
      ]
    },
    {
      "cell_type": "code",
      "source": [
        "# fake_account_scanner.py\n",
        "\n",
        "class FakeAccountScanner:\n",
        "    def __init__(self, name, username, followers, following, posts, account_age_months):\n",
        "        self.name = name.strip()\n",
        "        self.username = username.strip().lower()\n",
        "        self.followers = followers\n",
        "        self.following = following\n",
        "        self.posts = posts\n",
        "        self.account_age_months = account_age_months\n",
        "\n",
        "    def is_fake(self):\n",
        "        reasons = []\n",
        "\n",
        "        # 1. Check for short name\n",
        "        if len(self.name) < 3:\n",
        "            reasons.append(\"Name is too short to be genuine.\")\n",
        "\n",
        "        # 2. Username analysis\n",
        "        suspicious_keywords = [\"123\", \"xxx\", \"spam\", \"test\", \"real\", \"official\", \"celeb\"]\n",
        "        matches = [word for word in suspicious_keywords if word in self.username]\n",
        "        dot_count = self.username.count('.')\n",
        "        underscore_count = self.username.count('_')\n",
        "\n",
        "        if matches:\n",
        "            reasons.append(f\"Username contains suspicious keyword(s): {', '.join(matches)}.\")\n",
        "\n",
        "        if dot_count > 1 or underscore_count > 1:\n",
        "            reasons.append(\"Username contains too many special characters (dots or underscores).\")\n",
        "\n",
        "        # 3. Follower-following ratio\n",
        "        if self.followers < 50 and self.following > 300:\n",
        "            reasons.append(\"Following significantly exceeds followers.\")\n",
        "\n",
        "        # 4. Inactive old account\n",
        "        if self.posts == 0 and self.account_age_months > 12:\n",
        "            if self.followers < 100 or self.following > 300:\n",
        "                reasons.append(\"Zero posts despite account being older than a year with low activity.\")\n",
        "\n",
        "        # Core tweak: flag immediately if username is *too suspicious*\n",
        "        if len(matches) >= 2:\n",
        "            reasons.append(\"⚠️ Multiple suspicious patterns in username — high-risk flag.\")\n",
        "\n",
        "        # Final decision\n",
        "        is_fake = len(reasons) >= 2 or len(matches) >= 2\n",
        "        return is_fake, reasons if is_fake else [\"No strong indicators of a fake account.\"]\n",
        "\n",
        "\n",
        "def get_user_input():\n",
        "    print(\"📊 Social Media Fake Account Scanner\\n\")\n",
        "\n",
        "    name = input(\"Enter profile name: \")\n",
        "    username = input(\"Enter username: \")\n",
        "\n",
        "    try:\n",
        "        followers = int(input(\"Enter number of followers: \"))\n",
        "        following = int(input(\"Enter number of following: \"))\n",
        "        posts = int(input(\"Enter number of posts: \"))\n",
        "        account_age = int(input(\"Enter account age in months: \"))\n",
        "    except ValueError:\n",
        "        print(\"❌ Invalid input. Please enter numeric values for followers, following, posts, and account age.\")\n",
        "        return None\n",
        "\n",
        "    return FakeAccountScanner(name, username, followers, following, posts, account_age)\n",
        "\n",
        "\n",
        "def main():\n",
        "    scanner = get_user_input()\n",
        "    if scanner:\n",
        "        is_fake, reasons = scanner.is_fake()\n",
        "\n",
        "        print(\"\\n📋 Scan Result:\")\n",
        "        if is_fake:\n",
        "            print(\"🚨 Account Status: Potentially FAKE\")\n",
        "            print(\"🔎 Reasons:\")\n",
        "            for reason in reasons:\n",
        "                print(f\"- {reason}\")\n",
        "        else:\n",
        "            print(\"✅ Account Status: Likely GENUINE\")\n",
        "            print(\"✨ No suspicious patterns detected.\")\n",
        "\n",
        "\n",
        "if __name__ == \"__main__\":\n",
        "    main()\n"
      ],
      "metadata": {
        "colab": {
          "base_uri": "https://localhost:8080/"
        },
        "id": "pSs-RQv0oQnS",
        "outputId": "4cb89c99-fcd4-4b16-b1b4-4ae6ff1846e1"
      },
      "execution_count": 25,
      "outputs": [
        {
          "output_type": "stream",
          "name": "stdout",
          "text": [
            "📊 Social Media Fake Account Scanner\n",
            "\n",
            "Enter profile name: hruthiii\n",
            "Enter username: hruthika._.veldi\n",
            "Enter number of followers: 245\n",
            "Enter number of following: 230\n",
            "Enter number of posts: 0\n",
            "Enter account age in months: 30\n",
            "\n",
            "📋 Scan Result:\n",
            "✅ Account Status: Likely GENUINE\n",
            "✨ No suspicious patterns detected.\n"
          ]
        }
      ]
    },
    {
      "cell_type": "code",
      "source": [],
      "metadata": {
        "id": "NGYSg80ypu7n"
      },
      "execution_count": null,
      "outputs": []
    }
  ]
}